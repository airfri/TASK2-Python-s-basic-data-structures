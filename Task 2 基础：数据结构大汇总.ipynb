{
 "cells": [
  {
   "cell_type": "markdown",
   "metadata": {},
   "source": [
    "<h1>数据结构大汇总</h1>\n",
    "\n",
    "\n",
    "1.  [列表](#列表)<br>\n",
    "   [1. 列表的定义](#1.-列表的定义)<br>\n",
    "   [2. 列表的创建](#2.-列表的创建)<br>\n",
    "   [3. 向列表中添加元素](#3.-向列表中添加元素)<br>\n",
    "   [4. 删除列表中的元素](#4.-删除列表中的元素)<br>\n",
    "   [5. 获取列表中的元素](#5.-获取列表中的元素)<br>\n",
    "   [6. 列表的常用操作符](#6.-列表的常用操作符)<br>\n",
    "   [7. 列表的其它方法](#7.-列表的其它方法)<br>  \n",
    "   \n",
    "2.  [元组](#元组)<br>\n",
    "    [1. 创建和访问一个元组](#1.-创建和访问一个元组)<br>\n",
    "    [2. 更新和删除一个元组](#2.-更新和删除一个元组)<br>\n",
    "    [3. 元组相关操作符](#3.-元组相关操作符)<br>\n",
    "    [4. 内置方法](#4.-内置方法)<br>\n",
    "    [5. 解压元组](#5.-解压元组)<br>\n",
    "3.  [字符串](#字符串)<br>\n",
    "   [1. 字符串的定义](#1.-字符串的定义)<br>\n",
    "   [2. 字符串的切片与拼接](#2.-字符串的切片与拼接)<br>\n",
    "   [3. 字符串的常用内置方法](#3.-字符串的常用内置方法)<br>\n",
    "   [4. 字符串格式化](#4.-字符串格式化)<br>"
   ]
  },
  {
   "cell_type": "markdown",
   "metadata": {},
   "source": [
    "# 列表\n",
    "\n",
    "简单数据类型\n",
    "- 整型`<class 'int'>`\n",
    "- 浮点型`<class 'float'>`\n",
    "- 布尔型`<class 'bool'>`\n",
    "\n",
    "容器数据类型\n",
    "- 列表`<class 'list'>`\n",
    "- 元组`<class 'tuple'>`\n",
    "- 字典`<class 'dict'>`\n",
    "- 集合`<class 'set'>`\n",
    "- 字符串`<class 'str'>`\n"
   ]
  },
  {
   "cell_type": "markdown",
   "metadata": {},
   "source": [
    "## 1. 列表的定义\n",
    "\n",
    "列表是有序集合，没有固定大小，能够保存任意数量任意类型的 Python 对象，语法为 `[元素1, 元素2, ..., 元素n]`。\n",
    "\n",
    "- 关键点是「中括号 []」和「逗号 ,」\n",
    "- 中括号 把所有元素绑在一起\n",
    "- 逗号 将每个元素一一分开\n",
    "\n",
    "\n",
    "\n",
    "## 2. 列表的创建\n",
    "\n",
    "- 创建一个普通列表\n",
    "\n",
    "【例子】\n"
   ]
  },
  {
   "cell_type": "code",
   "execution_count": 4,
   "metadata": {},
   "outputs": [
    {
     "name": "stdout",
     "output_type": "stream",
     "text": [
      "['Monday', 'Tuesday', 'Wednesday', 'Thurday', 'Friday'] <class 'list'>\n",
      "[2, 3, 4, 5, 6, 7] <class 'list'>\n"
     ]
    }
   ],
   "source": [
    "x=['Monday','Tuesday','Wednesday','Thurday','Friday']\n",
    "print(x,type(x))\n",
    "\n",
    "x=[2,3,4,5,6,7]\n",
    "print(x,type(x))"
   ]
  },
  {
   "cell_type": "markdown",
   "metadata": {},
   "source": [
    "\n",
    "- 利用`range()`创建列表"
   ]
  },
  {
   "cell_type": "code",
   "execution_count": 2,
   "metadata": {},
   "outputs": [
    {
     "name": "stdout",
     "output_type": "stream",
     "text": [
      "[0, 1, 2, 3, 4, 5, 6, 7, 8, 9] <class 'list'>\n",
      "[1, 3, 5, 7, 9] <class 'list'>\n",
      "[10, 8, 6, 4, 2] <class 'list'>\n"
     ]
    }
   ],
   "source": [
    "x=list(range(10))\n",
    "print(x,type(x))\n",
    "\n",
    "x=list(range(1,11,2))#[1,11)\n",
    "print(x,type(x))\n",
    "\n",
    "x=list(range(10,1,-2))#[10,1)\n",
    "print(x,type(x))"
   ]
  },
  {
   "cell_type": "markdown",
   "metadata": {},
   "source": [
    "- 利用推导式创建列表"
   ]
  },
  {
   "cell_type": "code",
   "execution_count": 8,
   "metadata": {},
   "outputs": [
    {
     "name": "stdout",
     "output_type": "stream",
     "text": [
      "[0, 0, 0, 0, 0] <class 'list'>\n",
      "[0, 0, 0, 0, 0] <class 'list'>\n",
      "[0, 1, 2, 3, 4, 5, 6, 7, 8, 9] <class 'list'>\n",
      "[1, 3, 5, 7, 9] <class 'list'>\n",
      "[1, 4, 9, 16, 25, 36, 49, 64, 81] <class 'list'>\n",
      "[3, 9, 15, 21, 27, 33, 39, 45, 51, 57, 63, 69, 75, 81, 87, 93, 99] <class 'list'>\n"
     ]
    }
   ],
   "source": [
    "x=[0]*5\n",
    "print(x,type(x))\n",
    "\n",
    "x=[0 for i in range(5)]\n",
    "print(x,type(x))\n",
    "\n",
    "x=[i for i in range(10)]\n",
    "print(x,type(x))\n",
    "\n",
    "x=[i for i in range(1,10,2)]\n",
    "print(x,type(x))\n",
    "\n",
    "x=[i**2 for i in range(1,10)]\n",
    "print(x,type(x))\n",
    "\n",
    "x=[i for i in range(100) if (i%2)!=0 and (i%3)==0]\n",
    "print(x,type(x))"
   ]
  },
  {
   "cell_type": "markdown",
   "metadata": {},
   "source": [
    "注意：\n",
    "\n",
    "list的元素可以是任何对象，列表中所保存的是对象的指针。如保存`[1,2,3]`，有3个指针和3个整数对象。\n",
    "\n",
    "`x = [a] * 4`操作中，只是创建4个指向list的引用（指针），所以一旦`a`改变，`x`中4个`a`也会随之改变。\n",
    "\n",
    "【例子】"
   ]
  },
  {
   "cell_type": "code",
   "execution_count": 15,
   "metadata": {},
   "outputs": [
    {
     "name": "stdout",
     "output_type": "stream",
     "text": [
      "[[0, 0, 0], [0, 0, 0], [0, 0, 0], [0, 0, 0]] <class 'list'>\n",
      "[[1, 0, 0], [1, 0, 0], [1, 0, 0], [1, 0, 0]] <class 'list'>\n"
     ]
    }
   ],
   "source": [
    "x=[[0]*3]*4\n",
    "print(x,type(x))\n",
    "\n",
    "x[0][0]=1\n",
    "print(x,type(x))"
   ]
  },
  {
   "cell_type": "markdown",
   "metadata": {},
   "source": [
    "- 创建一个混合列表\n",
    "\n",
    "【例子】"
   ]
  },
  {
   "cell_type": "code",
   "execution_count": 17,
   "metadata": {},
   "outputs": [
    {
     "name": "stdout",
     "output_type": "stream",
     "text": [
      "[1, 'lsgo', 3.14, [1, 2, 3]] <class 'list'>\n"
     ]
    }
   ],
   "source": [
    "mix=[1,'lsgo',3.14,[1,2,3]]\n",
    "print(mix,type(mix))"
   ]
  },
  {
   "cell_type": "markdown",
   "metadata": {},
   "source": [
    "- 创建一个空列表"
   ]
  },
  {
   "cell_type": "code",
   "execution_count": 19,
   "metadata": {},
   "outputs": [
    {
     "name": "stdout",
     "output_type": "stream",
     "text": [
      "[] <class 'list'>\n"
     ]
    }
   ],
   "source": [
    "empty=[]\n",
    "print(empty,type(empty))"
   ]
  },
  {
   "cell_type": "markdown",
   "metadata": {},
   "source": [
    "列表不像元组，列表内容可更改 (mutable)，因此附加 (`append`, `extend`)、插入 (`insert`)、删除 (`remove`, `pop`) 这些操作都可以用在它身上。\n",
    "\n",
    "## 3. 向列表中添加元素\n",
    "- `list.append(obj)` 在列表末尾添加新的对象，只接受一个参数(任何数据类型)。被追加的元素在 list 中保持着原结构类型。\n",
    "\n",
    "【例子】\n"
   ]
  },
  {
   "cell_type": "code",
   "execution_count": 21,
   "metadata": {
    "scrolled": false
   },
   "outputs": [
    {
     "name": "stdout",
     "output_type": "stream",
     "text": [
      "['Monday', 'Tuesday', 'Wednesday', 'Thursday', 'Friday', 'Thursday']\n",
      "6\n"
     ]
    }
   ],
   "source": [
    "x=['Monday', 'Tuesday', 'Wednesday', 'Thursday', 'Friday']\n",
    "x.append('Thursday')\n",
    "print(x)\n",
    "print(len(x))"
   ]
  },
  {
   "cell_type": "markdown",
   "metadata": {},
   "source": [
    "- `list.extend(seq)` 在列表末尾一次性追加另一个序列中的多个值（用新列表扩展原来的列表）\n",
    "\n",
    "【例子】"
   ]
  },
  {
   "cell_type": "code",
   "execution_count": 22,
   "metadata": {
    "scrolled": true
   },
   "outputs": [
    {
     "name": "stdout",
     "output_type": "stream",
     "text": [
      "['Monday', 'Tuesday', 'Wednesday', 'Thursday', 'Friday', 'Thursday', 'Sunday']\n",
      "7\n"
     ]
    }
   ],
   "source": [
    "x = ['Monday', 'Tuesday', 'Wednesday', 'Thursday', 'Friday']\n",
    "x.extend(['Thursday', 'Sunday'])\n",
    "print(x)  \n",
    "print(len(x)) "
   ]
  },
  {
   "cell_type": "markdown",
   "metadata": {},
   "source": [
    "\n",
    " `append` 是追加，一个东西整体添加在列表后。`extend` 是扩展，把一个东西里的所有元素添加在列表后。\n",
    "\n",
    "- `list.insert(index, obj)` 在编号 `index` 位置插入 `obj`。\n",
    "\n",
    "【例子】"
   ]
  },
  {
   "cell_type": "code",
   "execution_count": 1,
   "metadata": {},
   "outputs": [
    {
     "name": "stdout",
     "output_type": "stream",
     "text": [
      "['Monday', 'Tuesday', 'Sunday', 'Wednesday', 'Thursday', 'Friday']\n",
      "6\n"
     ]
    }
   ],
   "source": [
    "x=['Monday', 'Tuesday', 'Wednesday', 'Thursday', 'Friday']\n",
    "x.insert(2,'Sunday')\n",
    "print(x)\n",
    "print(len(x))"
   ]
  },
  {
   "cell_type": "markdown",
   "metadata": {},
   "source": [
    "\n",
    "\n",
    "\n",
    "## 4. 删除列表中的元素\n",
    "- `list.remove(obj)` 移除列表中某个值的第一个匹配项\n",
    "\n",
    "【例子】\n"
   ]
  },
  {
   "cell_type": "code",
   "execution_count": 3,
   "metadata": {},
   "outputs": [
    {
     "name": "stdout",
     "output_type": "stream",
     "text": [
      "['Tuesday', 'Wednesday', 'Thursday', 'Friday']\n"
     ]
    }
   ],
   "source": [
    "x=['Monday', 'Tuesday', 'Wednesday', 'Thursday', 'Friday']\n",
    "x.remove('Monday')\n",
    "print(x)"
   ]
  },
  {
   "cell_type": "markdown",
   "metadata": {},
   "source": [
    "- `list.pop([index=-1])` 移除列表中的一个元素（默认最后一个元素），并返回该元素的值\n",
    "\n",
    "【例子】"
   ]
  },
  {
   "cell_type": "code",
   "execution_count": 28,
   "metadata": {},
   "outputs": [
    {
     "name": "stdout",
     "output_type": "stream",
     "text": [
      "Friday\n",
      "Monday\n",
      "Thursday\n",
      "['Tuesday', 'Wednesday']\n"
     ]
    }
   ],
   "source": [
    "x = ['Monday', 'Tuesday', 'Wednesday', 'Thursday', 'Friday']\n",
    "y=x.pop()#默认栈中最后一个元素 index=-1 \n",
    "print(y)\n",
    "\n",
    "y=x.pop(0)\n",
    "print(y)\n",
    "\n",
    "y=x.pop(2)#列表中第二个元素\n",
    "print(y)\n",
    "\n",
    "print(x)"
   ]
  },
  {
   "cell_type": "markdown",
   "metadata": {},
   "source": [
    "`remove`是指定具体要删除的元素，  `pop` 是指定一个索引。\n",
    "\n",
    "- `del var1[, var2 ……]` 删除单个或多个对象。\n",
    "\n",
    "【例子】\n",
    "\n",
    "如果知道要删除的元素在列表中的位置，可使用`del`语句。"
   ]
  },
  {
   "cell_type": "code",
   "execution_count": 9,
   "metadata": {
    "scrolled": true
   },
   "outputs": [
    {
     "name": "stdout",
     "output_type": "stream",
     "text": [
      "['Wednesday', 'Thursday', 'Friday']\n"
     ]
    }
   ],
   "source": [
    "x = ['Monday', 'Tuesday', 'Wednesday', 'Thursday', 'Friday']\n",
    "del x[0:2]\n",
    "print(x)"
   ]
  },
  {
   "cell_type": "markdown",
   "metadata": {},
   "source": [
    "如果你要从列表中删除一个元素，且不再以任何方式使用它，就使用`del`语句；如果你要在删除元素后还能继续使用它，就使用方法`pop()`。\n",
    "\n",
    "## 5. 获取列表中的元素\n",
    "\n",
    "- 通过元素的索引值，从列表获取单个元素，注意，列表索引值是从0开始的。\n",
    "- 通过将索引指定为-1，可让Python返回最后一个列表元素，索引 -2 返回倒数第二个列表元素，以此类推。\n",
    "\n",
    "【例子】"
   ]
  },
  {
   "cell_type": "code",
   "execution_count": 2,
   "metadata": {},
   "outputs": [
    {
     "name": "stdout",
     "output_type": "stream",
     "text": [
      "Monday <class 'str'>\n",
      "['Thursday', 'Friday'] <class 'list'>\n",
      "Wednesday <class 'str'>\n"
     ]
    }
   ],
   "source": [
    "x = ['Monday', 'Tuesday', 'Wednesday', ['Thursday', 'Friday']]\n",
    "print(x[0],type(x[0]))\n",
    "print(x[-1],type(x[-1]))\n",
    "print(x[-2],type(x[-2]))"
   ]
  },
  {
   "cell_type": "markdown",
   "metadata": {},
   "source": [
    "切片：`start：stop：step`\n",
    "- 情况1：“start:”\n",
    "- `step`默认为1 从start到尾"
   ]
  },
  {
   "cell_type": "code",
   "execution_count": 30,
   "metadata": {},
   "outputs": [
    {
     "name": "stdout",
     "output_type": "stream",
     "text": [
      "['Thursday', 'Friday']\n",
      "['Wednesday', 'Thursday', 'Friday']\n"
     ]
    }
   ],
   "source": [
    "x = ['Monday', 'Tuesday', 'Wednesday', 'Thursday', 'Friday']\n",
    "print(x[3:])\n",
    "print(x[-3:])"
   ]
  },
  {
   "cell_type": "markdown",
   "metadata": {},
   "source": [
    "- 情况2：\":stop\"\n",
    "- `step`默认为1 从头到尾"
   ]
  },
  {
   "cell_type": "code",
   "execution_count": 2,
   "metadata": {},
   "outputs": [
    {
     "name": "stdout",
     "output_type": "stream",
     "text": [
      "['Monday', 'Tuesday']\n",
      "['Monday', 'Tuesday', 'Wednesday']\n"
     ]
    }
   ],
   "source": [
    "week = ['Monday', 'Tuesday', 'Wednesday', 'Thursday', 'Friday']\n",
    "print(week[:-3])\n",
    "print(week[:3])"
   ]
  },
  {
   "cell_type": "markdown",
   "metadata": {},
   "source": [
    "- 情况3: \"start:stop\"\n",
    "- 以`step`默认为1，从start到stop"
   ]
  },
  {
   "cell_type": "code",
   "execution_count": 3,
   "metadata": {},
   "outputs": [
    {
     "name": "stdout",
     "output_type": "stream",
     "text": [
      "['Tuesday', 'Wednesday']\n",
      "['Wednesday', 'Thursday']\n"
     ]
    }
   ],
   "source": [
    "week = ['Monday', 'Tuesday', 'Wednesday', 'Thursday', 'Friday']\n",
    "print(week[1:3])  # ['Tuesday', 'Wednesday']\n",
    "print(week[-3:-1])  # ['Wednesday', 'Thursday']"
   ]
  },
  {
   "cell_type": "markdown",
   "metadata": {},
   "source": [
    "- 情况4：\"strat:step:stop\""
   ]
  },
  {
   "cell_type": "code",
   "execution_count": 4,
   "metadata": {},
   "outputs": [
    {
     "name": "stdout",
     "output_type": "stream",
     "text": [
      "['Tuesday', 'Thursday']\n",
      "['Monday', 'Wednesday']\n",
      "['Tuesday', 'Thursday']\n",
      "['Friday', 'Thursday', 'Wednesday', 'Tuesday', 'Monday']\n"
     ]
    }
   ],
   "source": [
    "week = ['Monday', 'Tuesday', 'Wednesday', 'Thursday', 'Friday']\n",
    "print(week[1:4:2])  # ['Tuesday', 'Thursday']\n",
    "print(week[:4:2])  # ['Monday', 'Wednesday']\n",
    "print(week[1::2])  # ['Tuesday', 'Thursday']\n",
    "print(week[::-1])  \n",
    "# ['Friday', 'Thursday', 'Wednesday', 'Tuesday', 'Monday']"
   ]
  },
  {
   "cell_type": "markdown",
   "metadata": {},
   "source": [
    "- 情况5：\":\"\n",
    "- 复制列表中的所有元素（浅拷贝）。"
   ]
  },
  {
   "cell_type": "code",
   "execution_count": 1,
   "metadata": {},
   "outputs": [
    {
     "name": "stdout",
     "output_type": "stream",
     "text": [
      "['Monday', 'Tuesday', 'Wednesday', 'Thursday', 'Friday']\n"
     ]
    }
   ],
   "source": [
    "week=['Monday', 'Tuesday', 'Wednesday', 'Thursday', 'Friday']\n",
    "print(week[:])  "
   ]
  },
  {
   "cell_type": "markdown",
   "metadata": {},
   "source": [
    "【例子】浅拷贝与深拷贝"
   ]
  },
  {
   "cell_type": "code",
   "execution_count": 7,
   "metadata": {},
   "outputs": [
    {
     "name": "stdout",
     "output_type": "stream",
     "text": [
      "[2, 1]\n",
      "[2, 1]\n",
      "[1, 2]\n",
      "[2, 1]\n"
     ]
    }
   ],
   "source": [
    "list1=[2,1]\n",
    "list2=list1#深拷贝\n",
    "list3=list1[:]#浅拷贝\n",
    "print(list2)\n",
    "print(list3)\n",
    "\n",
    "list1.sort()\n",
    "print(list2)#深拷贝\n",
    "print(list3)"
   ]
  },
  {
   "cell_type": "markdown",
   "metadata": {},
   "source": [
    "## 6. 列表的常用操作符\n",
    "- 等号操作符：`==`     只有成员、成员位置都相同时才返回True。\n",
    "- 连接操作符 `+`\n",
    "- 重复操作符 `*`\n",
    "- 成员关系操作符 `in`、`not in`\n",
    "\n",
    "\n",
    "列表拼接，用+和*，前者首尾拼接，后者复制拼接。\n",
    "\n",
    "\n",
    "【例子】"
   ]
  },
  {
   "cell_type": "code",
   "execution_count": 11,
   "metadata": {},
   "outputs": [
    {
     "name": "stdout",
     "output_type": "stream",
     "text": [
      "False\n",
      "[1, 2, 2, 1]\n",
      "[5, 6, 5, 6]\n",
      "[5, 6, 5, 6, 5, 6]\n",
      "True\n",
      "False\n"
     ]
    }
   ],
   "source": [
    "list1=[1,2]\n",
    "list2=[2,1]\n",
    "list3=[5,6]\n",
    "\n",
    "print(list1==list2)\n",
    "\n",
    "print(list1+list2)\n",
    "\n",
    "print(2*list3)\n",
    "print(list3*3)\n",
    "\n",
    "print(1 in list1)\n",
    "print(3 in list3)"
   ]
  },
  {
   "cell_type": "markdown",
   "metadata": {},
   "source": [
    "`append` `extend` `insert`这是修改原数据对象，没有返回值。而将两个list相加，需要创建新的list对象，从而需要消耗额外的内存，特别是当list较大的时候，尽量不要使用\"+\"来添加list"
   ]
  },
  {
   "cell_type": "markdown",
   "metadata": {},
   "source": [
    "## 7. 列表的其它方法\n",
    "\n",
    "`list.count(obj)`统计某元素在列表中出现次数"
   ]
  },
  {
   "cell_type": "code",
   "execution_count": 12,
   "metadata": {},
   "outputs": [
    {
     "name": "stdout",
     "output_type": "stream",
     "text": [
      "3\n"
     ]
    }
   ],
   "source": [
    "list1=[1,2]*3\n",
    "num=list1.count(1)\n",
    "print(num)"
   ]
  },
  {
   "cell_type": "markdown",
   "metadata": {},
   "source": [
    "`list.index(x[,start[,end])`从列表中找出某值第一个匹配项的索引位置"
   ]
  },
  {
   "cell_type": "code",
   "execution_count": 1,
   "metadata": {
    "scrolled": true
   },
   "outputs": [
    {
     "name": "stdout",
     "output_type": "stream",
     "text": [
      "0\n",
      "2\n",
      "4\n"
     ]
    }
   ],
   "source": [
    "list1=[123,456]*5\n",
    "print(list1.index(123))\n",
    "print(list1.index(123,1))#[1,\n",
    "print(list1.index(123,3,7)) #[3,7)"
   ]
  },
  {
   "cell_type": "markdown",
   "metadata": {},
   "source": [
    "`list.reverse()`翻转原列表，不返回值\n"
   ]
  },
  {
   "cell_type": "code",
   "execution_count": 16,
   "metadata": {
    "scrolled": true
   },
   "outputs": [
    {
     "name": "stdout",
     "output_type": "stream",
     "text": [
      "[3, 2, 1]\n"
     ]
    }
   ],
   "source": [
    "x=[1,2,3]\n",
    "x.reverse()\n",
    "print(x)"
   ]
  },
  {
   "cell_type": "markdown",
   "metadata": {},
   "source": [
    "`list.sort(key=None,reverse=False)`对原列表进行排序\n",
    "\n",
    "- `key` -- 主要是用来进行比较的元素，具体的函数的参数就是取自于可迭代对象（把可以通过for...in...这类语句迭代读取一条数据供我们使用的对象称之为可迭代对象）中，指定可迭代对象中的一个元素来进行排序。\n",
    "- `reverse` -- 排序规则，`reverse = True` 降序， `reverse = False` 升序（默认）。\n",
    "- 该方法没有返回值，但是会对列表的对象进行排序。\n"
   ]
  },
  {
   "cell_type": "markdown",
   "metadata": {},
   "source": []
  },
  {
   "cell_type": "code",
   "execution_count": 3,
   "metadata": {},
   "outputs": [
    {
     "name": "stdout",
     "output_type": "stream",
     "text": [
      "[1, 2, 3, 4]\n",
      "[4, 3, 2, 1]\n",
      "[(4, 1), (2, 2), (1, 3), (3, 4)]\n",
      "[(1, 3), (2, 2), (3, 4), (4, 1)]\n"
     ]
    }
   ],
   "source": [
    "x = [4, 3, 2, 1]\n",
    "x.sort()\n",
    "print(x)\n",
    "\n",
    "x.sort(reverse=True)\n",
    "print(x)\n",
    "\n",
    "\n",
    "# 获取列表的第二个元素\n",
    "def takeSecond(elem):\n",
    "    return elem[1] #按照第二个元素排序\n",
    "x = [(2, 2), (3, 4), (4, 1), (1, 3)]\n",
    "x.sort(key=takeSecond)#第二个元素\n",
    "# key主要是用来进行比较的元素，+\n",
    "# 只有一个参数，具体的函数(takeSecond)的参数就是(elem)取自于可迭代对象中{(2,2)}+\n",
    "# 指定可迭代对象(random)中的一个元素{eg:(2,2)}来进行排序\n",
    "print(x)\n",
    "\n",
    "\n",
    "x.sort(key=lambda a: a[0])#按照第一个元素排序\n",
    "#lambda作为一个表达式 定义了一个匿名函数 a为入口 a[0]为函数体\n",
    "# def g(a)\n",
    "#    return a[0]\n",
    "print(x)\n",
    "# [(1, 3), (2, 2), (3, 4), (4, 1)]"
   ]
  },
  {
   "cell_type": "markdown",
   "metadata": {},
   "source": [
    "# 元组\n",
    "\n",
    "定义：`(元素1，元素2，...,元素n)`\n",
    "\n",
    "## 1. 创建和访问一个元组\n",
    "\n",
    "- 与列表类似，用整数对它进行索引(indexing)和切片(slicing)\n",
    "- 区别：tuple被创建后不能对其修改，类似字符串。"
   ]
  },
  {
   "cell_type": "code",
   "execution_count": 15,
   "metadata": {
    "scrolled": true
   },
   "outputs": [
    {
     "name": "stdout",
     "output_type": "stream",
     "text": [
      "(1, 10.31, 'python') <class 'tuple'>\n",
      "(1, 10.31, 'python') <class 'tuple'>\n",
      "(1,) <class 'tuple'>\n",
      "2\n",
      "(6, 7, 8)\n",
      "(1, 2, 3, 4, 5)\n",
      "(1, 2, 3, 4, 5, 6, 7, 8) <class 'tuple'>\n"
     ]
    }
   ],
   "source": [
    "t1=(1,10.31,'python')\n",
    "t2=1,10.31,'python'  #1.创建tuple可以用(),或者什么都不用\n",
    "t3=(1,) #2.tuple只包含一个元素，需要加逗号，否则()被当成运算符\n",
    "#如果(1)则是int\n",
    "\n",
    "print(t1,type(t1))\n",
    "print(t2,type(t2))\n",
    "print(t3,type(t3))\n",
    "\n",
    "tuple1=(1,2,3,4,5,6,7,8)\n",
    "print(tuple1[1])\n",
    "print(tuple1[5:])\n",
    "print(tuple1[:5])\n",
    "tuple2=tuple1[:]#浅拷贝\n",
    "print(tuple2,type(tuple2))"
   ]
  },
  {
   "cell_type": "code",
   "execution_count": 2,
   "metadata": {},
   "outputs": [
    {
     "name": "stdout",
     "output_type": "stream",
     "text": [
      "64\n",
      "(8, 8, 8, 8, 8, 8, 8, 8)\n"
     ]
    }
   ],
   "source": [
    "print(8*(8))\n",
    "print(8*(8,))"
   ]
  },
  {
   "cell_type": "markdown",
   "metadata": {},
   "source": [
    "【例】创建二维元组"
   ]
  },
  {
   "cell_type": "code",
   "execution_count": 10,
   "metadata": {},
   "outputs": [
    {
     "name": "stdout",
     "output_type": "stream",
     "text": [
      "((1, 10.31, 'p'), ('data', 11))\n",
      "(1, 10.31, 'p')\n",
      "1 10.31\n",
      "(1, 10.31)\n"
     ]
    }
   ],
   "source": [
    "x=(1,10.31,'p'),('data',11)\n",
    "print(x)\n",
    "\n",
    "print(x[0])\n",
    "print(x[0][0],x[0][1])\n",
    "print(x[0][0:2])"
   ]
  },
  {
   "cell_type": "markdown",
   "metadata": {},
   "source": [
    "## 2. 更新和删除一个元组"
   ]
  },
  {
   "cell_type": "code",
   "execution_count": 11,
   "metadata": {},
   "outputs": [
    {
     "name": "stdout",
     "output_type": "stream",
     "text": [
      "('Monday', 'Tuesday', 'Wdenesday', 'Thursday', 'Friday')\n"
     ]
    }
   ],
   "source": [
    "week=('Monday', 'Tuesday', 'Thursday', 'Friday')\n",
    "week=week[:2]+('Wdenesday',)+week[2:]#直接在同一个元组上更新是不可行的，但是可以通过拷贝现有的元组片段构造一个新的元组的方式解决\n",
    "#对于元组是不可变的原则来说，单独删除一个元素是不可能的，当然你可以利用切片的方式更新元组，间接的删除一个元素\n",
    "print(week)"
   ]
  },
  {
   "cell_type": "markdown",
   "metadata": {},
   "source": [
    "【例】元组有不可更改 (immutable) 的性质（不可变类型），因此不能直接给元组的元素赋值，但是只要元组中的元素可更改 (mutable)，那么我们可以直接更改其元素，注意这跟赋值其元素不同。\n"
   ]
  },
  {
   "cell_type": "code",
   "execution_count": 6,
   "metadata": {},
   "outputs": [
    {
     "name": "stdout",
     "output_type": "stream",
     "text": [
      "(1, 2, 3, [9, 5, 6])\n"
     ]
    }
   ],
   "source": [
    "t1=(1,2,3,[4,5,6])\n",
    "\n",
    "t1[3][0]=9#元组的元素不可以更改，但元组的元素的元素可以更改\n",
    "print(t1)"
   ]
  },
  {
   "cell_type": "markdown",
   "metadata": {},
   "source": [
    "## 3. 元组相关操作符\n",
    "- ==：成员 成员位置都相同才返回true\n",
    "- 连接：+\n",
    "- 重复：*\n",
    "- 成员关系： in, not in"
   ]
  },
  {
   "cell_type": "code",
   "execution_count": 16,
   "metadata": {},
   "outputs": [
    {
     "name": "stdout",
     "output_type": "stream",
     "text": [
      "False\n",
      "True\n",
      "(1, 2, 3, 4)\n",
      "(1, 2, 1, 2, 1, 2)\n",
      "True\n",
      "False\n"
     ]
    }
   ],
   "source": [
    "t1=(1,2)\n",
    "t2=(3,4)\n",
    "t3=(1,2)\n",
    "\n",
    "print(t1==t2)\n",
    "print(t1==t3)\n",
    "print(t1+t2)#+首尾拼接\n",
    "print(t3*3)#*复制拼接\n",
    "print(1 in t1)\n",
    "print(4 not in t2)"
   ]
  },
  {
   "cell_type": "markdown",
   "metadata": {},
   "source": [
    "## 4. 内置方法\n",
    "元组的大小和内容都不可以更改，只有`count`和`index`两种方法\n",
    "- count()某元素在元组中出现的次数\n",
    "- index()某元素在元组中的索引"
   ]
  },
  {
   "cell_type": "code",
   "execution_count": 22,
   "metadata": {},
   "outputs": [
    {
     "name": "stdout",
     "output_type": "stream",
     "text": [
      "1\n",
      "1\n"
     ]
    }
   ],
   "source": [
    "t=(1,10.3,'python')\n",
    "print(t.count('python'))\n",
    "print(t.index(10.3))"
   ]
  },
  {
   "cell_type": "markdown",
   "metadata": {},
   "source": [
    "## 5. 解压元组\n",
    "- unpack一维元组"
   ]
  },
  {
   "cell_type": "code",
   "execution_count": 23,
   "metadata": {},
   "outputs": [
    {
     "name": "stdout",
     "output_type": "stream",
     "text": [
      "1 10.3 python\n"
     ]
    }
   ],
   "source": [
    "t=(1,10.3,'python')\n",
    "(a,b,c)=t\n",
    "print(a,b,c)"
   ]
  },
  {
   "cell_type": "markdown",
   "metadata": {},
   "source": [
    "- unpack二维元组"
   ]
  },
  {
   "cell_type": "code",
   "execution_count": 25,
   "metadata": {},
   "outputs": [
    {
     "name": "stdout",
     "output_type": "stream",
     "text": [
      "1 10.3 C++ python\n"
     ]
    }
   ],
   "source": [
    "t=(1,10.3,('C++','python'))\n",
    "(a,b,(c,d))=t\n",
    "print(a,b,c,d)"
   ]
  },
  {
   "cell_type": "markdown",
   "metadata": {},
   "source": [
    "- 通配符`*`即wildcard，代表一个或者多个元素"
   ]
  },
  {
   "cell_type": "code",
   "execution_count": 27,
   "metadata": {},
   "outputs": [
    {
     "name": "stdout",
     "output_type": "stream",
     "text": [
      "[3, 4] <class 'list'>\n"
     ]
    }
   ],
   "source": [
    "t=1,2,3,4,5\n",
    "a,b,*rest,d=t\n",
    "print(rest,type(rest))"
   ]
  },
  {
   "cell_type": "markdown",
   "metadata": {},
   "source": [
    "- 如果不在乎rest变量，那就用`*_`"
   ]
  },
  {
   "cell_type": "code",
   "execution_count": 29,
   "metadata": {
    "scrolled": true
   },
   "outputs": [
    {
     "name": "stdout",
     "output_type": "stream",
     "text": [
      "1 5\n",
      "2 3 4\n"
     ]
    }
   ],
   "source": [
    "t=1,2,3,4,5\n",
    "a,*_,b=t\n",
    "print(a,b)"
   ]
  },
  {
   "cell_type": "markdown",
   "metadata": {},
   "source": [
    "# 字符串\n",
    "## 1. 字符串的定义\n",
    "- 定义：\"\"之间的字符集合\n",
    "- 支持使用''或\"\""
   ]
  },
  {
   "cell_type": "code",
   "execution_count": 10,
   "metadata": {},
   "outputs": [
    {
     "name": "stdout",
     "output_type": "stream",
     "text": [
      "i love python! <class 'str'>\n",
      "13\n",
      "58\n"
     ]
    }
   ],
   "source": [
    "t1='i love python!'\n",
    "print(t1,type(t1))\n",
    "\n",
    "print(5+8)\n",
    "print('5'+'8')"
   ]
  },
  {
   "cell_type": "markdown",
   "metadata": {},
   "source": [
    "- 常用转义字符"
   ]
  },
  {
   "cell_type": "markdown",
   "metadata": {},
   "source": [
    "|转义字符|描述|\n",
    "|:-----|:----- |\n",
    "| \\\\|反斜杠符号|\n",
    "|\\\\\\'|单引号|\n",
    "|\\\\\\\"|双引号|\n",
    "|\\n|换行|\n",
    "|\\t|横向制表符（TAB）|\n",
    "|\\r|回车|"
   ]
  },
  {
   "cell_type": "code",
   "execution_count": 15,
   "metadata": {
    "scrolled": true
   },
   "outputs": [
    {
     "name": "stdout",
     "output_type": "stream",
     "text": [
      "let's go\n",
      "c:\\now\n"
     ]
    }
   ],
   "source": [
    "print('let\\'s go')\n",
    "print('c:\\\\now')"
   ]
  },
  {
   "cell_type": "markdown",
   "metadata": {},
   "source": [
    "转义符号<br>\n",
    "原始字符只需要在字符串前边加一个r即可v                               "
   ]
  },
  {
   "cell_type": "code",
   "execution_count": 18,
   "metadata": {},
   "outputs": [
    {
     "name": "stdout",
     "output_type": "stream",
     "text": [
      "这是一个多行字符串的实例\n",
      "多行字符串可以使用制表符\n",
      "TAB ( \t )。\n",
      "也可以使用换行符 [ \n",
      " ]。\n",
      "\n"
     ]
    }
   ],
   "source": [
    "para_str = \"\"\"这是一个多行字符串的实例\n",
    "多行字符串可以使用制表符\n",
    "TAB ( \\t )。(\n",
    "也可以使用换行符 [ \\n ]。\n",
    "\"\"\"\n",
    "print(para_str)\n"
   ]
  },
  {
   "cell_type": "markdown",
   "metadata": {},
   "source": [
    "## 2. 字符串的切片与拼接\n",
    "- 类似元组 不可修改性 immunable\n",
    "- 从0开始\n",
    "- 切片[start,end)\n",
    "- 索引可正可负，正索引从0开始，从左至右；负索引从-1开始，从右往左。"
   ]
  },
  {
   "cell_type": "code",
   "execution_count": 21,
   "metadata": {},
   "outputs": [
    {
     "name": "stdout",
     "output_type": "stream",
     "text": [
      "i love\n",
      "e\n",
      "i love插入的字符串 lsgogroup\n"
     ]
    }
   ],
   "source": [
    "str1='i love lsgogroup'\n",
    "print(str1[:6])\n",
    "print(str1[5])\n",
    "print(str1[:6]+\"插入的字符串\"+str1[6:])"
   ]
  },
  {
   "cell_type": "markdown",
   "metadata": {},
   "source": [
    "## 3. 字符串的常用内置方法\n",
    "- capitalize() 将字符串的第一个字符转换为大写"
   ]
  },
  {
   "cell_type": "code",
   "execution_count": 22,
   "metadata": {},
   "outputs": [
    {
     "name": "stdout",
     "output_type": "stream",
     "text": [
      "Xiaoli\n"
     ]
    }
   ],
   "source": [
    "str2=\"xiaoli\"\n",
    "print(str2.capitalize())"
   ]
  },
  {
   "cell_type": "markdown",
   "metadata": {},
   "source": [
    "- lower()转换 字符串中所有大写字符→小写字符\n",
    "- upper()转换 字符串中所有小写字符→大写字符\n",
    "- swapcase()转换 字符串中大写→小写，小写→大写"
   ]
  },
  {
   "cell_type": "code",
   "execution_count": 3,
   "metadata": {},
   "outputs": [
    {
     "name": "stdout",
     "output_type": "stream",
     "text": [
      "abcabc\n",
      "ABCABC\n",
      "abcABC\n"
     ]
    }
   ],
   "source": [
    "str2=\"ABCabc\"\n",
    "print(str2.lower())\n",
    "print(str2.upper())\n",
    "print(str2.swapcase())"
   ]
  },
  {
   "cell_type": "markdown",
   "metadata": {},
   "source": [
    "- count(str,beg=0,end=len(string))返回str在string里面\n",
    "出现的次数，如果beg或者end指定则返回指定范围内str出现的次数。"
   ]
  },
  {
   "cell_type": "code",
   "execution_count": 8,
   "metadata": {
    "scrolled": true
   },
   "outputs": [
    {
     "name": "stdout",
     "output_type": "stream",
     "text": [
      "1\n"
     ]
    }
   ],
   "source": [
    "str2=\"DAXIExiaoxie\"\n",
    "print(str2.count('xi',0,10))"
   ]
  },
  {
   "cell_type": "markdown",
   "metadata": {},
   "source": [
    "- endswith(suffix,beg=0,end=len(string))\n",
    "- startswith(substr,beg=0,end=len(string))"
   ]
  },
  {
   "cell_type": "code",
   "execution_count": 13,
   "metadata": {},
   "outputs": [
    {
     "name": "stdout",
     "output_type": "stream",
     "text": [
      "True\n",
      "True\n"
     ]
    }
   ],
   "source": [
    "str2=\"DAXIExiaoxie\"\n",
    "print(str2.endswith('ie'))\n",
    "print(str2.startswith('D'))"
   ]
  },
  {
   "cell_type": "markdown",
   "metadata": {},
   "source": [
    "- find(str,beg=0,end=len(string))\n",
    "- rfing(str,beg=0,end=len(string)) 从右边开始查找"
   ]
  },
  {
   "cell_type": "code",
   "execution_count": 15,
   "metadata": {
    "scrolled": true
   },
   "outputs": [
    {
     "name": "stdout",
     "output_type": "stream",
     "text": [
      "10\n",
      "-1\n"
     ]
    }
   ],
   "source": [
    "str2=\"DAXIExiaoxie\"\n",
    "print(str2.find('ie'))\n",
    "print(str2.rfind('ei'))"
   ]
  },
  {
   "cell_type": "markdown",
   "metadata": {},
   "source": [
    "- isnumeric()判断是否只有数字字符\n",
    "- isalpha()判断是不是都是字母"
   ]
  },
  {
   "cell_type": "code",
   "execution_count": 18,
   "metadata": {},
   "outputs": [
    {
     "name": "stdout",
     "output_type": "stream",
     "text": [
      "True\n",
      "False\n"
     ]
    }
   ],
   "source": [
    "a='fjasjfiji'\n",
    "print(a.isalpha())\n",
    "\n",
    "b='11111oo'\n",
    "print(b.isnumeric())"
   ]
  },
  {
   "cell_type": "markdown",
   "metadata": {},
   "source": [
    "- ljust(width[,fillchar])返回原字符串左对齐，使用fillchar填充至长度width的新字符串\n",
    "- rjust(width[,fillchar])返回原字符串左右对齐，使用fillchar填充至长度width的新字符串"
   ]
  },
  {
   "cell_type": "code",
   "execution_count": 25,
   "metadata": {},
   "outputs": [
    {
     "name": "stdout",
     "output_type": "stream",
     "text": [
      "11010000\n",
      "00001101\n"
     ]
    }
   ],
   "source": [
    "a='1101'\n",
    "print(a.ljust(8,'0'))\n",
    "print(a.rjust(8,'0'))"
   ]
  },
  {
   "cell_type": "markdown",
   "metadata": {},
   "source": [
    "- lstrip([chars]) 截掉字符串左边的空格或指定字符。\n",
    "- rstrip([chars]) 删除字符串末尾的空格或指定字符。\n",
    "- strip([chars]) 在字符串上执行lstrip()和rstrip();strip()删除字符串的首尾空格"
   ]
  },
  {
   "cell_type": "code",
   "execution_count": 26,
   "metadata": {
    "scrolled": true
   },
   "outputs": [
    {
     "name": "stdout",
     "output_type": "stream",
     "text": [
      "I Love LsgoGroup \n",
      " Love LsgoGroup \n",
      " I Love LsgoGroup\n",
      "I Love LsgoGroup\n",
      "I Love LsgoGrou\n"
     ]
    }
   ],
   "source": [
    "str5 = ' I Love LsgoGroup '\n",
    "print(str5.lstrip())  \n",
    "print(str5.lstrip().strip('I'))  \n",
    "print(str5.rstrip())  \n",
    "print(str5.strip()) \n",
    "print(str5.strip().strip('p'))"
   ]
  },
  {
   "cell_type": "markdown",
   "metadata": {},
   "source": [
    "- partition(sub)找到子字符串sub，把字符串分为一个三元组(pre_sub,sub,fol_sub)，若字符串不包含sub，则返回（'原字符串','',''）\n",
    "- rpartition(sub)类似于partition()方法，从右边开始"
   ]
  },
  {
   "cell_type": "code",
   "execution_count": 29,
   "metadata": {
    "scrolled": true
   },
   "outputs": [
    {
     "name": "stdout",
     "output_type": "stream",
     "text": [
      "('L ', 'love', ' you')\n",
      "('L love y', 'o', 'u')\n",
      "('L love you', '', '')\n"
     ]
    }
   ],
   "source": [
    "str5=' L love you '\n",
    "print(str5.strip().partition('love'))\n",
    "print(str5.strip().rpartition('o'))\n",
    "print(str5.strip().partition('lv'))"
   ]
  },
  {
   "cell_type": "markdown",
   "metadata": {},
   "source": [
    "- replace(old,new,[,max]) 替换，如果max指定，则替换次数<=max次"
   ]
  },
  {
   "cell_type": "code",
   "execution_count": 30,
   "metadata": {},
   "outputs": [
    {
     "name": "stdout",
     "output_type": "stream",
     "text": [
      "We love you\n"
     ]
    }
   ],
   "source": [
    "str5=' I love you '\n",
    "print(str5.strip().replace('I','We'))"
   ]
  },
  {
   "cell_type": "markdown",
   "metadata": {},
   "source": [
    "- split(str= \"\",num)不带参数默认是以空格为分隔符切片，如果num有参数设置，则仅分隔num个子字符串，返回切片后的子字符串拼接的列表。"
   ]
  },
  {
   "cell_type": "code",
   "execution_count": 33,
   "metadata": {},
   "outputs": [
    {
     "name": "stdout",
     "output_type": "stream",
     "text": [
      "['I', 'Love', 'LsgoGroup']\n",
      "[' I L', 've Lsg', 'Gr', 'up ']\n",
      "[' I L', 've Lsg', 'Group ']\n"
     ]
    }
   ],
   "source": [
    "#以‘’和字母作为分隔符\n",
    "s=' I Love LsgoGroup '\n",
    "print(s.split())\n",
    "print(s.split('o'))\n",
    "print(s.split('o',2))"
   ]
  },
  {
   "cell_type": "code",
   "execution_count": 40,
   "metadata": {
    "scrolled": true
   },
   "outputs": [
    {
     "name": "stdout",
     "output_type": "stream",
     "text": [
      "['www.baidu.com.cn']\n",
      "['www', 'baidu', 'com', 'cn']\n",
      "['www.baidu.com.cn']\n",
      "['www', 'baidu.com.cn']\n",
      "baidu\n",
      "www\n",
      "baidu\n",
      "com.cn\n"
     ]
    }
   ],
   "source": [
    "#以.作为分隔符\n",
    "u=\"www.baidu.com.cn\"\n",
    "print(u.split())\n",
    "print(u.split('.'))\n",
    "print(u.split(\".\",0))\n",
    "print(u.split(\".\",1))\n",
    "print(u.split(\".\",2)[1])\n",
    "u1,u2,u3=u.split(\".\",2)b\n",
    "print(u1)\n",
    "print(u2)\n",
    "print(u3)"
   ]
  },
  {
   "cell_type": "code",
   "execution_count": 43,
   "metadata": {},
   "outputs": [
    {
     "name": "stdout",
     "output_type": "stream",
     "text": [
      "say\n",
      "hello\n",
      "baby\n",
      "['say', 'hello', 'baby']\n"
     ]
    }
   ],
   "source": [
    "#以\\n作为分隔符\n",
    "c='''say\n",
    "hello\n",
    "baby'''\n",
    "print(c)\n",
    "print(c.split('\\n'))"
   ]
  },
  {
   "cell_type": "code",
   "execution_count": 45,
   "metadata": {},
   "outputs": [
    {
     "name": "stdout",
     "output_type": "stream",
     "text": [
      "www.baidu.com\n",
      "['www', 'baidu', 'com']\n"
     ]
    }
   ],
   "source": [
    "#\n",
    "string=\"hello boy<[www.baidu.com]>byebye\"\n",
    "print(string.split('[')[1].split(']')[0])\n",
    "print(string.split('[')[1].split(']')[0].split('.'))"
   ]
  },
  {
   "cell_type": "markdown",
   "metadata": {},
   "source": [
    "- splitlines([keepends])按照行('\\r','\\r\\n','\\n')分隔，返回一个包含各行作为元素的列表，如果参数keepends为False，不包含换行符，如果为True,则保留换行符。"
   ]
  },
  {
   "cell_type": "code",
   "execution_count": 52,
   "metadata": {},
   "outputs": [
    {
     "name": "stdout",
     "output_type": "stream",
     "text": [
      "['I ', ' love ', ' LsgoGroup']\n",
      "['I \\n', ' love \\n', ' LsgoGroup']\n"
     ]
    }
   ],
   "source": [
    "str6='I \\n love \\n LsgoGroup'\n",
    "print(str6.splitlines())#默认为false\n",
    "print(str6.splitlines(True))"
   ]
  },
  {
   "cell_type": "markdown",
   "metadata": {},
   "source": [
    "- maketrans(intab, outtab) 创建字符映射的转换表，第一个参数是字符串，表示需要转换的字符，第二个参数也是字符串表示转换的目标。\n",
    "- translate(table, deletechars=\"\") 根据参数table给出的表，转换字符串的字符，要过滤掉的字符放到deletechars参数中。"
   ]
  },
  {
   "cell_type": "code",
   "execution_count": 59,
   "metadata": {},
   "outputs": [
    {
     "name": "stdout",
     "output_type": "stream",
     "text": [
      "{97: 49, 101: 50, 105: 51, 111: 52, 117: 53}\n",
      "th3s 3s str3ng 2x1mpl2....w4w!!!\n"
     ]
    }
   ],
   "source": [
    "str7='this is string example....wow!!!'\n",
    "intab='aeiou'\n",
    "outtab='12345'\n",
    "trantab=str7.maketrans(intab,outtab)#ASCLL码\n",
    "print(trantab)\n",
    "print(str7.translate(trantab))"
   ]
  },
  {
   "cell_type": "markdown",
   "metadata": {},
   "source": [
    "- join() 连接字符串"
   ]
  },
  {
   "cell_type": "code",
   "execution_count": 12,
   "metadata": {
    "scrolled": false
   },
   "outputs": [
    {
     "name": "stdout",
     "output_type": "stream",
     "text": [
      "apple**--**orange**--**banana\n"
     ]
    }
   ],
   "source": [
    "a=['apple','orange','banana']\n",
    "s='**--**'.join(a)\n",
    "print(s)"
   ]
  },
  {
   "cell_type": "markdown",
   "metadata": {},
   "source": [
    "- center() 返回一个原字符串居中输出，并使用空格"
   ]
  },
  {
   "cell_type": "code",
   "execution_count": 19,
   "metadata": {},
   "outputs": [
    {
     "name": "stdout",
     "output_type": "stream",
     "text": [
      "姓名liqing\n",
      "***********************cuc************************\n"
     ]
    }
   ],
   "source": [
    "s1='cuc'\n",
    "s2=input('姓名')\n",
    "print(s1.center(50,'*'))#50个宽度的星号，s1放在center"
   ]
  },
  {
   "cell_type": "markdown",
   "metadata": {},
   "source": [
    "## 4. 字符串格式化\n",
    "- format() {}代表一个占位符"
   ]
  },
  {
   "cell_type": "code",
   "execution_count": 61,
   "metadata": {},
   "outputs": [
    {
     "name": "stdout",
     "output_type": "stream",
     "text": [
      "I Love Lsgogroup\n",
      "I Lsgogroup I\n",
      "I Love Lsgogroup\n",
      "I Love Lsgogroup\n",
      "27.66GB\n",
      "a居中对齐  10.11   ,b左对齐20.1      \n"
     ]
    }
   ],
   "source": [
    "str8 = \"{0} Love {1}\".format('I', 'Lsgogroup')  # 位置参数   即为位置索引\n",
    "print(str8)  # I Love Lsgogroup\n",
    "\n",
    "str8 = \"{0} {1} {0}\".format('I', 'Lsgogroup')  # 位置参数   即为位置索引\n",
    "print(str8)  # I Love Lsgogroup\n",
    "\n",
    "str8 = \"{a} Love {b}\".format(a='I', b='Lsgogroup')  # 关键字参数\n",
    "print(str8)  # I Love Lsgogroup\n",
    "\n",
    "str8 = \"{0} Love {b}\".format('I', b='Lsgogroup')  # 位置参数要在关键字参数之前\n",
    "print(str8)  # I Love Lsgogroup\n",
    "\n",
    "str8 = '{0:.2f}{1}'.format(27.658, 'GB')  # 保留小数点后两位\n",
    "print(str8)  # 27.66GB\n",
    "\n",
    "str8='a居中对齐{:^10.2f},b左对齐{:<10.1f}'.format(10.111,20.111)\n",
    "print(str8)  # 27.66GB\n",
    "\n"
   ]
  },
  {
   "cell_type": "markdown",
   "metadata": {},
   "source": [
    "- Python字符串格式化符号\n",
    "\n",
    "|符号|描述|\n",
    "|----|----|\n",
    "|%c|格式化字符及其ASCII码|\n",
    "|%s|格式化字符串，用str()方法处理对象|\n",
    "|%r|格式化字符串，用rper()方法处理对象|\n",
    "|%d|格式化整数|\n",
    "|%o|格式化无符号八进制数|\n",
    "|%x|格式化无符号十六进制数|\n",
    "|%X|格式化无符号十六进制数（大写）|\n",
    "|%f|格式化浮点数字，可指定小数点后的精度|\n",
    "|%e|用科学计数法格式化浮点数|\n",
    "|%E|作用同%e，用科学计数法格式化浮点数|\n",
    "|%g|根据值的大小决定使用%f或%e|\n",
    "|%G|作用同%g，根据值的大小决定使用%f或%E|"
   ]
  },
  {
   "cell_type": "code",
   "execution_count": 65,
   "metadata": {
    "scrolled": true
   },
   "outputs": [
    {
     "name": "stdout",
     "output_type": "stream",
     "text": [
      "a\n",
      "a b c\n",
      "4 + 5 = 9\n",
      "我叫 小明 今年 10 岁!\n",
      "12\n",
      "a\n",
      "A\n",
      "27.658000\n",
      "2.765800e+01\n",
      "2.765800E+01\n",
      "27.658\n",
      "I said: I am 22 years old..\n",
      "I said: 'I am 22 years old.'.\n"
     ]
    }
   ],
   "source": [
    "print('%c'%97)  # a\n",
    "print('%c %c %c' % (97, 98, 99))  # a b c\n",
    "print('%d + %d = %d' % (4, 5, 9))  # 4 + 5 = 9\n",
    "print(\"我叫 %s 今年 %d 岁!\" % ('小明', 10))  # 我叫 小明 今年 10 岁!\n",
    "print('%o' % 10)  # 12\n",
    "print('%x' % 10)  # a\n",
    "print('%X' % 10)  # A\n",
    "print('%f' % 27.658)  # 27.658000\n",
    "print('%e' % 27.658)  # 2.765800e+01\n",
    "print('%E' % 27.658)  # 2.765800E+01\n",
    "print('%g' % 27.658)  # 27.658\n",
    "text = \"I am %d years old.\" % 22\n",
    "print(\"I said: %s.\" % text)  # I said: I am 22 years old..\n",
    "print(\"I said: %r.\" % text)  # I said: 'I am 22 years old.'"
   ]
  },
  {
   "cell_type": "markdown",
   "metadata": {},
   "source": [
    "- 格式化操作符辅助指令\n",
    "\n",
    "|符号|功能|\n",
    "|---|---|\n",
    "|m.n|m 是显示的最小总宽度,n 是小数点后的位数（如果可用的话）|\n",
    "|-|左对齐|\n",
    "|+|在正数前面显示加号( + )|\n",
    "|#|在八进制数前面显示零('0')，在十六进制前面显示'0x'或者'0X'(取决于用的是'x'还是'X')\n",
    "|0|显示的数字前面填充'0'而不是默认的空格|"
   ]
  },
  {
   "cell_type": "code",
   "execution_count": 66,
   "metadata": {},
   "outputs": [
    {
     "name": "stdout",
     "output_type": "stream",
     "text": [
      " 27.7\n",
      "2.77e+01\n",
      "        10\n",
      "10        \n",
      "+10\n",
      "0o12\n",
      "0x6c\n",
      "0000000005\n"
     ]
    }
   ],
   "source": [
    "print('%5.1f' % 27.658)  # ' 27.7'\n",
    "print('%.2e' % 27.658)  # 2.77e+01\n",
    "print('%10d' % 10)  # '        10'\n",
    "print('%-10d' % 10)  # '10        '\n",
    "print('%+d' % 10)  # +10\n",
    "print('%#o' % 10)  # 0o12\n",
    "print('%#x' % 108)  # 0x6c\n",
    "print('%010d' % 5)  # 0000000005"
   ]
  },
  {
   "cell_type": "markdown",
   "metadata": {},
   "source": [
    "# 字典\n",
    "## 1. 可变类型与不可变类型\n",
    "- 序列是以连续的整数为索引，字典确是以\"关键字\"为索引，关键字可以是任意`不可变类型`，通常用字符串或数值。\n",
    "- 字典是 Python 唯一的一个 映射类型，字符串、元组、列表属于序列类型。\n",
    "- 快速判断一个数据类型 X 是不是可变类型:\n",
    "  \n",
    "  (1)用 id(X) 函数，对 X 进行某种操作，比较操作前后的 id，如果不一样，则 X 不可变，如果一样，则 X 可变。\n",
    "  \n",
    "  (2)用 hash(X)，只要不报错，证明 X 可被哈希，即不可变，反过来不可被哈希，即可变。"
   ]
  },
  {
   "cell_type": "code",
   "execution_count": 67,
   "metadata": {},
   "outputs": [
    {
     "name": "stdout",
     "output_type": "stream",
     "text": [
      "140727633023808\n",
      "140727633023872\n",
      "2136215288520\n",
      "2136215288520\n"
     ]
    }
   ],
   "source": [
    "i = 1\n",
    "print(id(i))  # 获取内存地址 140732167000896\n",
    "i = i + 2\n",
    "print(id(i))  # 140732167000960\n",
    "\n",
    "l = [1, 2]\n",
    "print(id(l))  # 4300825160\n",
    "l.append('Python')\n",
    "print(id(l))  # 4300825160\n"
   ]
  },
  {
   "cell_type": "markdown",
   "metadata": {},
   "source": [
    "可变类型的对象，提供了可以改变其内部数据值的操作，其内部的值可以被重新更改。不可变数据类型：其内部的操作不会改变内部的值，一旦试图更改其内部的值，将会构造一个新的对象而非对原来的值进行更改。"
   ]
  },
  {
   "cell_type": "code",
   "execution_count": 69,
   "metadata": {},
   "outputs": [
    {
     "name": "stdout",
     "output_type": "stream",
     "text": [
      "4317826186286312416\n"
     ]
    },
    {
     "ename": "TypeError",
     "evalue": "hash() takes exactly one argument (3 given)",
     "output_type": "error",
     "traceback": [
      "\u001b[1;31m---------------------------------------------------------------------------\u001b[0m",
      "\u001b[1;31mTypeError\u001b[0m                                 Traceback (most recent call last)",
      "\u001b[1;32m<ipython-input-69-9137ef13923e>\u001b[0m in \u001b[0;36m<module>\u001b[1;34m\u001b[0m\n\u001b[0;32m      1\u001b[0m \u001b[0mprint\u001b[0m\u001b[1;33m(\u001b[0m\u001b[0mhash\u001b[0m\u001b[1;33m(\u001b[0m\u001b[1;34m'Name'\u001b[0m\u001b[1;33m)\u001b[0m\u001b[1;33m)\u001b[0m\u001b[1;33m\u001b[0m\u001b[1;33m\u001b[0m\u001b[0m\n\u001b[1;32m----> 2\u001b[1;33m \u001b[0mprint\u001b[0m\u001b[1;33m(\u001b[0m\u001b[0mhash\u001b[0m\u001b[1;33m(\u001b[0m\u001b[1;36m1\u001b[0m\u001b[1;33m,\u001b[0m\u001b[1;36m2\u001b[0m\u001b[1;33m,\u001b[0m\u001b[1;34m'Python'\u001b[0m\u001b[1;33m)\u001b[0m\u001b[1;33m)\u001b[0m\u001b[1;33m\u001b[0m\u001b[1;33m\u001b[0m\u001b[0m\n\u001b[0m\u001b[0;32m      3\u001b[0m \u001b[0mprint\u001b[0m\u001b[1;33m(\u001b[0m\u001b[0mhash\u001b[0m\u001b[1;33m(\u001b[0m\u001b[1;33m[\u001b[0m\u001b[1;36m1\u001b[0m\u001b[1;33m,\u001b[0m\u001b[1;36m2\u001b[0m\u001b[1;33m,\u001b[0m\u001b[1;34m'Python'\u001b[0m\u001b[1;33m]\u001b[0m\u001b[1;33m)\u001b[0m\u001b[1;33m)\u001b[0m\u001b[1;33m\u001b[0m\u001b[1;33m\u001b[0m\u001b[0m\n",
      "\u001b[1;31mTypeError\u001b[0m: hash() takes exactly one argument (3 given)"
     ]
    }
   ],
   "source": [
    "print(hash('Name'))\n",
    "print(hash(1,2,'Python'))\n",
    "print(hash([1,2,'Python']))"
   ]
  },
  {
   "cell_type": "code",
   "execution_count": 70,
   "metadata": {},
   "outputs": [
    {
     "ename": "TypeError",
     "evalue": "unhashable type: 'set'",
     "output_type": "error",
     "traceback": [
      "\u001b[1;31m---------------------------------------------------------------------------\u001b[0m",
      "\u001b[1;31mTypeError\u001b[0m                                 Traceback (most recent call last)",
      "\u001b[1;32m<ipython-input-70-653299afdf87>\u001b[0m in \u001b[0;36m<module>\u001b[1;34m\u001b[0m\n\u001b[1;32m----> 1\u001b[1;33m \u001b[0mprint\u001b[0m\u001b[1;33m(\u001b[0m\u001b[0mhash\u001b[0m\u001b[1;33m(\u001b[0m\u001b[1;33m{\u001b[0m\u001b[1;36m1\u001b[0m\u001b[1;33m,\u001b[0m\u001b[1;36m2\u001b[0m\u001b[1;33m,\u001b[0m\u001b[1;36m3\u001b[0m\u001b[1;33m}\u001b[0m\u001b[1;33m)\u001b[0m\u001b[1;33m)\u001b[0m\u001b[1;33m\u001b[0m\u001b[1;33m\u001b[0m\u001b[0m\n\u001b[0m",
      "\u001b[1;31mTypeError\u001b[0m: unhashable type: 'set'"
     ]
    }
   ],
   "source": [
    "print(hash({1,2,3}))"
   ]
  },
  {
   "cell_type": "markdown",
   "metadata": {},
   "source": [
    "- 数值、字符和元组 都能被哈希，因此它们是不可变类型。\n",
    "- 列表、集合、字典不能被哈希，因此它是可变类型。"
   ]
  },
  {
   "cell_type": "markdown",
   "metadata": {},
   "source": [
    "## 2. 字典的定义\n",
    "字典 是无序的键:值（`key:value`）对的集合，在同一个字典之内键必须是互不相同的。\n",
    "- dict 内部存放的顺序和 key 放入的顺序是没有关系的。\n",
    "- dict 查找和插入的速度极快，`不会随着 key 的增加而增加`，但是需要占用大量的内存。\n",
    "字典 定义语法为 `{元素1, 元素2, ..., 元素n}`\n",
    "- 每一个元素是一个「键值对」-- (key:value)\n",
    "- 大括号 -- 把所有元素绑在一起,逗号 -- 将每个键值对分开，冒号 -- 将键和值分开\n",
    "\n",
    "## 3. 创建和访问字典"
   ]
  },
  {
   "cell_type": "code",
   "execution_count": 74,
   "metadata": {},
   "outputs": [
    {
     "name": "stdout",
     "output_type": "stream",
     "text": [
      "nike's slogan is just do it\n",
      "nike's slogan is just do it\n"
     ]
    }
   ],
   "source": [
    "#字典比双列表更方便\n",
    "brand=['lining','nike','addias']\n",
    "slogan=['everything is possible','just do it','impossible is nothing']\n",
    "print('nike\\'s slogan is',slogan[brand.index('nike')])\n",
    "\n",
    "dic={'lining':'everything is possible','nike':'just do it','addias':'impossible is nothing'}\n",
    "print('nike\\'s slogan is',dic['nike'])"
   ]
  },
  {
   "cell_type": "code",
   "execution_count": 79,
   "metadata": {
    "scrolled": true
   },
   "outputs": [
    {
     "name": "stdout",
     "output_type": "stream",
     "text": [
      "{1: 'one', 2: 'two', 3: 'three'}\n",
      "one\n"
     ]
    },
    {
     "ename": "KeyError",
     "evalue": "4",
     "output_type": "error",
     "traceback": [
      "\u001b[1;31m---------------------------------------------------------------------------\u001b[0m",
      "\u001b[1;31mKeyError\u001b[0m                                  Traceback (most recent call last)",
      "\u001b[1;32m<ipython-input-79-aac4cd4e095c>\u001b[0m in \u001b[0;36m<module>\u001b[1;34m\u001b[0m\n\u001b[0;32m      3\u001b[0m \u001b[0mprint\u001b[0m\u001b[1;33m(\u001b[0m\u001b[0mdic\u001b[0m\u001b[1;33m)\u001b[0m\u001b[1;33m\u001b[0m\u001b[1;33m\u001b[0m\u001b[0m\n\u001b[0;32m      4\u001b[0m \u001b[0mprint\u001b[0m\u001b[1;33m(\u001b[0m\u001b[0mdic\u001b[0m\u001b[1;33m[\u001b[0m\u001b[1;36m1\u001b[0m\u001b[1;33m]\u001b[0m\u001b[1;33m)\u001b[0m\u001b[1;33m\u001b[0m\u001b[1;33m\u001b[0m\u001b[0m\n\u001b[1;32m----> 5\u001b[1;33m \u001b[0mprint\u001b[0m\u001b[1;33m(\u001b[0m\u001b[0mdic\u001b[0m\u001b[1;33m[\u001b[0m\u001b[1;36m4\u001b[0m\u001b[1;33m]\u001b[0m\u001b[1;33m)\u001b[0m\u001b[1;31m#如果我们取的键在字典中不存在，会直接报错KeyError\u001b[0m\u001b[1;33m\u001b[0m\u001b[1;33m\u001b[0m\u001b[0m\n\u001b[0m",
      "\u001b[1;31mKeyError\u001b[0m: 4"
     ]
    }
   ],
   "source": [
    "#通过字符串或数值作为key来创建字典\n",
    "dic={1:'one',2:'two',3:'three'}\n",
    "print(dic)\n",
    "print(dic[1])\n",
    "print(dic[4])#如果我们取的键在字典中不存在，会直接报错KeyError"
   ]
  },
  {
   "cell_type": "code",
   "execution_count": 78,
   "metadata": {},
   "outputs": [
    {
     "name": "stdout",
     "output_type": "stream",
     "text": [
      "{'rice': 35, 'wheat': 101, 'corn': 67}\n",
      "35\n"
     ]
    }
   ],
   "source": [
    "#通过字符串或数值作为key来创建字典\n",
    "dic2 = {'rice': 35, 'wheat': 101, 'corn': 67}\n",
    "print(dic2)  # {'wheat': 101, 'corn': 67, 'rice': 35}\n",
    "print(dic2['rice'])  # 35"
   ]
  },
  {
   "cell_type": "markdown",
   "metadata": {},
   "source": [
    "- dic()创建一个空字典"
   ]
  },
  {
   "cell_type": "code",
   "execution_count": 86,
   "metadata": {},
   "outputs": [
    {
     "name": "stdout",
     "output_type": "stream",
     "text": [
      "{'a': 1, 'b': 2, 'c': 3}\n",
      "{'a': 11, 'b': 2, 'c': 3}\n",
      "{'a': 11, 'b': 2, 'c': 3, 'd': 4}\n"
     ]
    }
   ],
   "source": [
    "dic = dict()\n",
    "dic['a'] = 1\n",
    "dic['b'] = 2\n",
    "dic['c'] = 3\n",
    "print(dic)\n",
    "\n",
    "dic['a'] = 11\n",
    "print(dic)\n",
    "\n",
    "dic['d'] = 4\n",
    "print(dic)\n",
    "#次对一个key放入 value，后面的值会把前面的值冲掉"
   ]
  },
  {
   "cell_type": "markdown",
   "metadata": {},
   "source": [
    "- dict(mapping) new dictionary initialized from a mapping object's (key, value) pairs"
   ]
  },
  {
   "cell_type": "code",
   "execution_count": 87,
   "metadata": {},
   "outputs": [],
   "source": [
    "dic1 = dict([('apple', 4139), ('peach', 4127), ('cherry', 4098)])\n",
    "dic2 = dict((('apple', 4139), ('peach', 4127), ('cherry', 4098)))"
   ]
  },
  {
   "cell_type": "markdown",
   "metadata": {},
   "source": [
    "dict(**kwargs) -> new dictionary initialized with the name=value pairs in the keyword argument list. For example: dict(one=1, two=2)\n",
    "\n",
    "【例子】这种情况下，键只能为字符串类型，并且创建的时候字符串不能加引号，加上就会直接报语法错误"
   ]
  },
  {
   "cell_type": "code",
   "execution_count": 88,
   "metadata": {},
   "outputs": [
    {
     "name": "stdout",
     "output_type": "stream",
     "text": [
      "{'name': 'Tom', 'age': 10}\n",
      "<class 'dict'>\n"
     ]
    }
   ],
   "source": [
    "dic = dict(name='Tom', age=10)\n",
    "print(dic)  # {'name': 'Tom', 'age': 10}\n",
    "print(type(dic))  # <class 'dict'>"
   ]
  },
  {
   "cell_type": "markdown",
   "metadata": {},
   "source": [
    "## 4. 字典的内置方法\n",
    "- dict.fromkeys(seq[, value]) 用于创建一个新字典，以序列 seq 中元素做字典的键，value 为字典所有键对应的初始值。"
   ]
  },
  {
   "cell_type": "code",
   "execution_count": 96,
   "metadata": {},
   "outputs": [
    {
     "name": "stdout",
     "output_type": "stream",
     "text": [
      "{'name': None, 'age': None, 'sex': None}\n",
      "{'name': 10, 'age': 10, 'sex': 10}\n",
      "{'name': ('小马', '8', '男'), 'age': ('小马', '8', '男'), 'sex': ('小马', '8', '男')}\n"
     ]
    }
   ],
   "source": [
    "seq=('name','age','sex')#键 元组\n",
    "dic1=dict.fromkeys(seq)\n",
    "print(dic1)\n",
    "\n",
    "dic2=dict.fromkeys(seq,10)\n",
    "print(dic2)\n",
    "\n",
    "dic3=dict.fromkeys(seq,('小马','8','男'))#创建的时候都是元组 值：元组\n",
    "print(dic3)"
   ]
  },
  {
   "cell_type": "markdown",
   "metadata": {},
   "source": [
    "- dict.keys()返回一个可迭代对象，可以使用 list() 来转换为列表，列表为字典中的所有`键`"
   ]
  },
  {
   "cell_type": "code",
   "execution_count": 100,
   "metadata": {},
   "outputs": [
    {
     "name": "stdout",
     "output_type": "stream",
     "text": [
      "dict_keys(['Name', 'Age'])\n",
      "['Name', 'Age']\n"
     ]
    }
   ],
   "source": [
    "dic = {'Name': 'lsgogroup', 'Age': 7}\n",
    "print(dic.keys())\n",
    "lst=list(dic.keys())\n",
    "print(lst)"
   ]
  },
  {
   "cell_type": "markdown",
   "metadata": {},
   "source": [
    "- dict.values()返回一个迭代器 使用 list() 来转换为列表，列表为字典中的所有`值`"
   ]
  },
  {
   "cell_type": "code",
   "execution_count": 101,
   "metadata": {
    "scrolled": true
   },
   "outputs": [
    {
     "name": "stdout",
     "output_type": "stream",
     "text": [
      "dict_values(['female', 7, 'Zara'])\n",
      "['female', 7, 'Zara']\n"
     ]
    }
   ],
   "source": [
    "dic = {'Sex': 'female', 'Age': 7, 'Name': 'Zara'}\n",
    "print(dic.values())\n",
    "print(list(dic.values()))"
   ]
  },
  {
   "cell_type": "markdown",
   "metadata": {},
   "source": [
    "- dict.items()以列表返回可遍历的 `(键, 值)` 元组数组"
   ]
  },
  {
   "cell_type": "code",
   "execution_count": 102,
   "metadata": {},
   "outputs": [
    {
     "name": "stdout",
     "output_type": "stream",
     "text": [
      "dict_items([('Name', 'Lsgogroup'), ('Age', 7)])\n",
      "(('Name', 'Lsgogroup'), ('Age', 7))\n",
      "[('Name', 'Lsgogroup'), ('Age', 7)]\n"
     ]
    }
   ],
   "source": [
    "dic = {'Name': 'Lsgogroup', 'Age': 7}\n",
    "print(dic.items())\n",
    "\n",
    "print(tuple(dic.items()))\n",
    "print(list(dic.items()))"
   ]
  },
  {
   "cell_type": "markdown",
   "metadata": {},
   "source": [
    "- dict.get(key, default=None) 返回指定键的值，如果值不在字典中返回默认值"
   ]
  },
  {
   "cell_type": "code",
   "execution_count": 111,
   "metadata": {
    "scrolled": true
   },
   "outputs": [
    {
     "name": "stdout",
     "output_type": "stream",
     "text": [
      "Age 值为 : 27\n",
      "Sex 值为 : NA\n",
      "{'Name': 'Lsgogroup', 'Age': 27}\n"
     ]
    }
   ],
   "source": [
    "dic = {'Name': 'Lsgogroup', 'Age': 27}\n",
    "print(\"Age 值为 : %s\" % dic.get('Age'))  # Age 值为 : 27\n",
    "print(\"Sex 值为 : %s\" % dic.get('Sex', \"NA\"))  # Sex 值为 : NA\n",
    "print(dic)  #{'Name': 'Lsgogroup', 'Age': 27}"
   ]
  },
  {
   "cell_type": "markdown",
   "metadata": {},
   "source": [
    "- dict.setdefault(key, default=None)和get()方法类似, 如果键不存在于字典中，将会添加键并将值设为默认值。"
   ]
  },
  {
   "cell_type": "code",
   "execution_count": 112,
   "metadata": {},
   "outputs": [
    {
     "name": "stdout",
     "output_type": "stream",
     "text": [
      "Age 键的值为 : 7\n",
      "Sex 键的值为 : None\n",
      "{'Name': 'Lsgogroup', 'Age': 7, 'Sex': None}\n"
     ]
    }
   ],
   "source": [
    "dic = {'Name': 'Lsgogroup', 'Age': 7}\n",
    "print(\"Age 键的值为 : %s\" % dic.setdefault('Age', None))  # Age 键的值为 : 7\n",
    "print(\"Sex 键的值为 : %s\" % dic.setdefault('Sex', None))  # Sex 键的值为 : None\n",
    "print(dic) "
   ]
  },
  {
   "cell_type": "markdown",
   "metadata": {},
   "source": [
    "- key in dict in 操作符用于判断键是否存在于字典中"
   ]
  },
  {
   "cell_type": "code",
   "execution_count": 80,
   "metadata": {},
   "outputs": [
    {
     "name": "stdout",
     "output_type": "stream",
     "text": [
      "键 Age 存在\n",
      "键 Sex 不存在\n",
      "键 Age 存在\n"
     ]
    }
   ],
   "source": [
    "dic = {'Name': 'Lsgogroup', 'Age': 7}\n",
    "\n",
    "# in 检测键 Age 是否存在\n",
    "if 'Age' in dic:\n",
    "    print(\"键 Age 存在\")\n",
    "else:\n",
    "    print(\"键 Age 不存在\")\n",
    "\n",
    "# 检测键 Sex 是否存在\n",
    "if 'Sex' in dic:\n",
    "    print(\"键 Sex 存在\")\n",
    "else:\n",
    "    print(\"键 Sex 不存在\")\n",
    "\n",
    "# not in 检测键 Age 是否存在\n",
    "if 'Age' not in dic:\n",
    "    print(\"键 Age 不存在\")\n",
    "else:\n",
    "    print(\"键 Age 存在\")"
   ]
  },
  {
   "cell_type": "markdown",
   "metadata": {},
   "source": [
    "- dict.pop(key[,default])删除字典给定键 key 所对应的值，返回值为被删除的值。key 值必须给出。若key不存在，则返回 default 值。\n",
    "- del dict[key] 删除字典给定键 key 所对应的值。"
   ]
  },
  {
   "cell_type": "code",
   "execution_count": 120,
   "metadata": {},
   "outputs": [
    {
     "name": "stdout",
     "output_type": "stream",
     "text": [
      "a {2: [1, 2]}\n",
      "nokey {2: [1, 2]}\n",
      "{}\n"
     ]
    }
   ],
   "source": [
    "dic1={1:'a',2:[1,2]}\n",
    "print(dic1.pop(1),dic)\n",
    "\n",
    "print(dic1.pop(3,\"nokey\"),dic1)\n",
    "\n",
    "del dic1[2]\n",
    "print(dic1)\n"
   ]
  },
  {
   "cell_type": "markdown",
   "metadata": {},
   "source": [
    "- dict.popitem()随机返回并删除字典中的一对键和值，如果字典已经为空，却调用了此方法，就报出KeyError异常。"
   ]
  },
  {
   "cell_type": "code",
   "execution_count": 122,
   "metadata": {},
   "outputs": [
    {
     "name": "stdout",
     "output_type": "stream",
     "text": [
      "(2, [1, 2])\n",
      "{1: 'a'}\n"
     ]
    }
   ],
   "source": [
    "dic1 = {1: \"a\", 2: [1, 2]}\n",
    "print(dic1.popitem())  \n",
    "print(dic1)  "
   ]
  },
  {
   "cell_type": "markdown",
   "metadata": {},
   "source": [
    "- dict.clear()用于删除字典内所有元素"
   ]
  },
  {
   "cell_type": "code",
   "execution_count": 124,
   "metadata": {},
   "outputs": [
    {
     "name": "stdout",
     "output_type": "stream",
     "text": [
      "字典长度 : 2\n",
      "字典删除后长度 : 0\n"
     ]
    }
   ],
   "source": [
    "dic = {'Name': 'Zara', 'Age': 7}\n",
    "print(\"字典长度 : %d\" % len(dic))  \n",
    "dic.clear()\n",
    "print(\"字典删除后长度 : %d\" % len(dic))  \n"
   ]
  },
  {
   "cell_type": "markdown",
   "metadata": {},
   "source": [
    "- dict.copy()返回一个字典的浅复制"
   ]
  }
 ],
 "metadata": {
  "kernelspec": {
   "display_name": "Python 3",
   "language": "python",
   "name": "python3"
  },
  "language_info": {
   "codemirror_mode": {
    "name": "ipython",
    "version": 3
   },
   "file_extension": ".py",
   "mimetype": "text/x-python",
   "name": "python",
   "nbconvert_exporter": "python",
   "pygments_lexer": "ipython3",
   "version": "3.8.5"
  }
 },
 "nbformat": 4,
 "nbformat_minor": 2
}
